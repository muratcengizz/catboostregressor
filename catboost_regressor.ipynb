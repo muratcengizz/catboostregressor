{
 "cells": [
  {
   "cell_type": "markdown",
   "id": "b0fc1923-a5d9-4f6c-880f-1bbfb700e057",
   "metadata": {},
   "source": [
    "# CatBoost Regressor \n",
    "\n",
    "### CatBoost, bir makine öğrenimi algoritmasıdır ve kategorik değişkenlerle çalışmak için özel olarak tasarlanmıştır. Kategorik değişkenler, metinsel veya kategorik değerlerden oluşan veri setindeki değişkenlerdir. CatBoost, özellikle sıralı kategorik değişkenleri ele almak için etkilidir.\n",
    "\n",
    "### CatBoost, gradient boosting yöntemine dayanan bir algoritmadır. Gradient boosting, zayıf tahmincileri (genellikle karar ağaçları) birleştirerek güçlü bir tahminci oluşturmayı amaçlar. CatBoost, bu boosting sürecini kategorik değişkenlerin özel niteliklerini dikkate alarak gerçekleştirir.\n",
    "\n",
    "## CatBoost'un başlıca özellikleri şunlardır:\n",
    "\n",
    "### Kategorik Değişken Desteği: CatBoost, otomatik olarak kategorik değişkenleri tanır ve bu değişkenleri içsel olarak kodlar. Bu, veri bilimcilerin kategorik değişkenler üzerinde ayrı kodlama işlemleri yapmalarını gerektirmez.\n",
    "\n",
    "### Sıralı Değişken Desteği: CatBoost, sıralı kategorik değişkenlerle çalışmak için özel olarak tasarlanmıştır. Örneğin, kullanıcı sıralama bilgilerini içeren bir veri seti varsa, CatBoost bu bilgileri kullanarak daha iyi tahminler yapabilir.\n",
    "\n",
    "### Hızlı Eğitim ve Tahmin: CatBoost, hızlı ve ölçeklenebilir bir algoritmadır. Paralel işleme yetenekleri sayesinde büyük veri setlerinde etklili bir şekilde çalışabilir.\n",
    "\n",
    "### İyi Performans: CatBoost, genellikle diğer popüler boosting algoritmalarıyla karşılaştırıldığında iyi bir performans gösterir. Genel olarak, tahmin doğruluğunu arttırmak için diğer algoritmaların ihtiyaç duyduğu bazı hiperparametre ayarlarını da otomatik olarak gerçekleştirir."
   ]
  },
  {
   "cell_type": "code",
   "execution_count": 92,
   "id": "be451d59-d976-4124-bf5e-6ce5f87ca662",
   "metadata": {},
   "outputs": [],
   "source": [
    "import numpy as np\n",
    "import pandas as pd\n",
    "import seaborn as sns\n",
    "import matplotlib.pyplot as plt\n",
    "from catboost import CatBoostRegressor\n",
    "from sklearn.model_selection import train_test_split, GridSearchCV, cross_val_score\n",
    "from sklearn.metrics import r2_score, mean_squared_error"
   ]
  },
  {
   "cell_type": "code",
   "execution_count": 78,
   "id": "63c023d3-e724-4a84-a6f9-817072bafd08",
   "metadata": {},
   "outputs": [
    {
     "data": {
      "text/html": [
       "<div>\n",
       "<style scoped>\n",
       "    .dataframe tbody tr th:only-of-type {\n",
       "        vertical-align: middle;\n",
       "    }\n",
       "\n",
       "    .dataframe tbody tr th {\n",
       "        vertical-align: top;\n",
       "    }\n",
       "\n",
       "    .dataframe thead th {\n",
       "        text-align: right;\n",
       "    }\n",
       "</style>\n",
       "<table border=\"1\" class=\"dataframe\">\n",
       "  <thead>\n",
       "    <tr style=\"text-align: right;\">\n",
       "      <th></th>\n",
       "      <th>Öğrenci</th>\n",
       "      <th>Yaş</th>\n",
       "      <th>Cinsiyet</th>\n",
       "      <th>Sınıf</th>\n",
       "      <th>Matematik</th>\n",
       "      <th>Fizik</th>\n",
       "      <th>Kimya</th>\n",
       "    </tr>\n",
       "  </thead>\n",
       "  <tbody>\n",
       "    <tr>\n",
       "      <th>0</th>\n",
       "      <td>Fatma</td>\n",
       "      <td>20</td>\n",
       "      <td>Erkek</td>\n",
       "      <td>12</td>\n",
       "      <td>92</td>\n",
       "      <td>76</td>\n",
       "      <td>92</td>\n",
       "    </tr>\n",
       "    <tr>\n",
       "      <th>1</th>\n",
       "      <td>Ahmet</td>\n",
       "      <td>19</td>\n",
       "      <td>Erkek</td>\n",
       "      <td>10</td>\n",
       "      <td>84</td>\n",
       "      <td>94</td>\n",
       "      <td>89</td>\n",
       "    </tr>\n",
       "    <tr>\n",
       "      <th>2</th>\n",
       "      <td>Mehmet</td>\n",
       "      <td>17</td>\n",
       "      <td>Kadın</td>\n",
       "      <td>10</td>\n",
       "      <td>77</td>\n",
       "      <td>84</td>\n",
       "      <td>86</td>\n",
       "    </tr>\n",
       "    <tr>\n",
       "      <th>3</th>\n",
       "      <td>Ahmet</td>\n",
       "      <td>20</td>\n",
       "      <td>Erkek</td>\n",
       "      <td>11</td>\n",
       "      <td>82</td>\n",
       "      <td>93</td>\n",
       "      <td>83</td>\n",
       "    </tr>\n",
       "    <tr>\n",
       "      <th>4</th>\n",
       "      <td>Ahmet</td>\n",
       "      <td>20</td>\n",
       "      <td>Erkek</td>\n",
       "      <td>12</td>\n",
       "      <td>88</td>\n",
       "      <td>75</td>\n",
       "      <td>84</td>\n",
       "    </tr>\n",
       "  </tbody>\n",
       "</table>\n",
       "</div>"
      ],
      "text/plain": [
       "  Öğrenci  Yaş Cinsiyet  Sınıf  Matematik  Fizik  Kimya\n",
       "0   Fatma   20    Erkek     12         92     76     92\n",
       "1   Ahmet   19    Erkek     10         84     94     89\n",
       "2  Mehmet   17    Kadın     10         77     84     86\n",
       "3   Ahmet   20    Erkek     11         82     93     83\n",
       "4   Ahmet   20    Erkek     12         88     75     84"
      ]
     },
     "execution_count": 78,
     "metadata": {},
     "output_type": "execute_result"
    }
   ],
   "source": [
    "# Veri setini oluşturalım.\n",
    "np.random.seed(42)\n",
    "data = {\n",
    "    'Öğrenci': np.random.choice(['Ali', 'Ayşe', 'Mehmet', 'Fatma', 'Ahmet'], size=100),\n",
    "    'Yaş': np.random.randint(17, 21, 100),\n",
    "    'Cinsiyet': np.random.choice(['Erkek', 'Kadın'], size=100),\n",
    "    'Sınıf': np.random.choice([10, 11, 12], size=100),\n",
    "    'Matematik': np.random.randint(75, 95, size=100),\n",
    "    'Fizik': np.random.randint(75, 95, size=100),\n",
    "    'Kimya': np.random.randint(75, 95, size=100)\n",
    "}\n",
    "\n",
    "data = pd.DataFrame(data)\n",
    "data.head()"
   ]
  },
  {
   "cell_type": "markdown",
   "id": "f1cf9c75-f434-4ad7-b6a1-e1e07b99ae14",
   "metadata": {},
   "source": [
    "# Veri Analizi"
   ]
  },
  {
   "cell_type": "code",
   "execution_count": 79,
   "id": "db3a6724-d83f-4046-828a-b75fa925dae7",
   "metadata": {},
   "outputs": [
    {
     "data": {
      "text/html": [
       "<div>\n",
       "<style scoped>\n",
       "    .dataframe tbody tr th:only-of-type {\n",
       "        vertical-align: middle;\n",
       "    }\n",
       "\n",
       "    .dataframe tbody tr th {\n",
       "        vertical-align: top;\n",
       "    }\n",
       "\n",
       "    .dataframe thead th {\n",
       "        text-align: right;\n",
       "    }\n",
       "</style>\n",
       "<table border=\"1\" class=\"dataframe\">\n",
       "  <thead>\n",
       "    <tr style=\"text-align: right;\">\n",
       "      <th></th>\n",
       "      <th>count</th>\n",
       "      <th>mean</th>\n",
       "      <th>std</th>\n",
       "      <th>min</th>\n",
       "      <th>25%</th>\n",
       "      <th>50%</th>\n",
       "      <th>75%</th>\n",
       "      <th>max</th>\n",
       "    </tr>\n",
       "  </thead>\n",
       "  <tbody>\n",
       "    <tr>\n",
       "      <th>Yaş</th>\n",
       "      <td>100.0</td>\n",
       "      <td>18.54</td>\n",
       "      <td>1.113916</td>\n",
       "      <td>17.0</td>\n",
       "      <td>17.75</td>\n",
       "      <td>19.0</td>\n",
       "      <td>19.00</td>\n",
       "      <td>20.0</td>\n",
       "    </tr>\n",
       "    <tr>\n",
       "      <th>Sınıf</th>\n",
       "      <td>100.0</td>\n",
       "      <td>10.91</td>\n",
       "      <td>0.842015</td>\n",
       "      <td>10.0</td>\n",
       "      <td>10.00</td>\n",
       "      <td>11.0</td>\n",
       "      <td>12.00</td>\n",
       "      <td>12.0</td>\n",
       "    </tr>\n",
       "    <tr>\n",
       "      <th>Matematik</th>\n",
       "      <td>100.0</td>\n",
       "      <td>84.45</td>\n",
       "      <td>5.929510</td>\n",
       "      <td>75.0</td>\n",
       "      <td>79.00</td>\n",
       "      <td>84.5</td>\n",
       "      <td>90.00</td>\n",
       "      <td>94.0</td>\n",
       "    </tr>\n",
       "    <tr>\n",
       "      <th>Fizik</th>\n",
       "      <td>100.0</td>\n",
       "      <td>84.64</td>\n",
       "      <td>6.002558</td>\n",
       "      <td>75.0</td>\n",
       "      <td>79.00</td>\n",
       "      <td>85.0</td>\n",
       "      <td>90.00</td>\n",
       "      <td>94.0</td>\n",
       "    </tr>\n",
       "    <tr>\n",
       "      <th>Kimya</th>\n",
       "      <td>100.0</td>\n",
       "      <td>84.75</td>\n",
       "      <td>5.553004</td>\n",
       "      <td>75.0</td>\n",
       "      <td>80.00</td>\n",
       "      <td>85.0</td>\n",
       "      <td>89.25</td>\n",
       "      <td>94.0</td>\n",
       "    </tr>\n",
       "  </tbody>\n",
       "</table>\n",
       "</div>"
      ],
      "text/plain": [
       "           count   mean       std   min    25%   50%    75%   max\n",
       "Yaş        100.0  18.54  1.113916  17.0  17.75  19.0  19.00  20.0\n",
       "Sınıf      100.0  10.91  0.842015  10.0  10.00  11.0  12.00  12.0\n",
       "Matematik  100.0  84.45  5.929510  75.0  79.00  84.5  90.00  94.0\n",
       "Fizik      100.0  84.64  6.002558  75.0  79.00  85.0  90.00  94.0\n",
       "Kimya      100.0  84.75  5.553004  75.0  80.00  85.0  89.25  94.0"
      ]
     },
     "execution_count": 79,
     "metadata": {},
     "output_type": "execute_result"
    }
   ],
   "source": [
    "data.describe().T"
   ]
  },
  {
   "cell_type": "code",
   "execution_count": 80,
   "id": "4bb8cb3a-1294-4f67-b92e-f445495d843d",
   "metadata": {},
   "outputs": [
    {
     "name": "stdout",
     "output_type": "stream",
     "text": [
      "<class 'pandas.core.frame.DataFrame'>\n",
      "RangeIndex: 100 entries, 0 to 99\n",
      "Data columns (total 7 columns):\n",
      " #   Column     Non-Null Count  Dtype \n",
      "---  ------     --------------  ----- \n",
      " 0   Öğrenci    100 non-null    object\n",
      " 1   Yaş        100 non-null    int32 \n",
      " 2   Cinsiyet   100 non-null    object\n",
      " 3   Sınıf      100 non-null    int32 \n",
      " 4   Matematik  100 non-null    int32 \n",
      " 5   Fizik      100 non-null    int32 \n",
      " 6   Kimya      100 non-null    int32 \n",
      "dtypes: int32(5), object(2)\n",
      "memory usage: 3.6+ KB\n"
     ]
    }
   ],
   "source": [
    "data.info()"
   ]
  },
  {
   "cell_type": "code",
   "execution_count": 81,
   "id": "bf6cca95-a221-47fc-812f-8462248c6ea9",
   "metadata": {},
   "outputs": [
    {
     "data": {
      "text/html": [
       "<div>\n",
       "<style scoped>\n",
       "    .dataframe tbody tr th:only-of-type {\n",
       "        vertical-align: middle;\n",
       "    }\n",
       "\n",
       "    .dataframe tbody tr th {\n",
       "        vertical-align: top;\n",
       "    }\n",
       "\n",
       "    .dataframe thead th {\n",
       "        text-align: right;\n",
       "    }\n",
       "</style>\n",
       "<table border=\"1\" class=\"dataframe\">\n",
       "  <thead>\n",
       "    <tr style=\"text-align: right;\">\n",
       "      <th></th>\n",
       "      <th>Yaş</th>\n",
       "      <th>Sınıf</th>\n",
       "      <th>Matematik</th>\n",
       "      <th>Fizik</th>\n",
       "      <th>Kimya</th>\n",
       "    </tr>\n",
       "  </thead>\n",
       "  <tbody>\n",
       "    <tr>\n",
       "      <th>Yaş</th>\n",
       "      <td>1.000000</td>\n",
       "      <td>-0.012277</td>\n",
       "      <td>0.063772</td>\n",
       "      <td>-0.142851</td>\n",
       "      <td>0.079200</td>\n",
       "    </tr>\n",
       "    <tr>\n",
       "      <th>Sınıf</th>\n",
       "      <td>-0.012277</td>\n",
       "      <td>1.000000</td>\n",
       "      <td>0.129582</td>\n",
       "      <td>-0.114395</td>\n",
       "      <td>0.174445</td>\n",
       "    </tr>\n",
       "    <tr>\n",
       "      <th>Matematik</th>\n",
       "      <td>0.063772</td>\n",
       "      <td>0.129582</td>\n",
       "      <td>1.000000</td>\n",
       "      <td>-0.095583</td>\n",
       "      <td>0.100392</td>\n",
       "    </tr>\n",
       "    <tr>\n",
       "      <th>Fizik</th>\n",
       "      <td>-0.142851</td>\n",
       "      <td>-0.114395</td>\n",
       "      <td>-0.095583</td>\n",
       "      <td>1.000000</td>\n",
       "      <td>-0.051820</td>\n",
       "    </tr>\n",
       "    <tr>\n",
       "      <th>Kimya</th>\n",
       "      <td>0.079200</td>\n",
       "      <td>0.174445</td>\n",
       "      <td>0.100392</td>\n",
       "      <td>-0.051820</td>\n",
       "      <td>1.000000</td>\n",
       "    </tr>\n",
       "  </tbody>\n",
       "</table>\n",
       "</div>"
      ],
      "text/plain": [
       "                Yaş     Sınıf  Matematik     Fizik     Kimya\n",
       "Yaş        1.000000 -0.012277   0.063772 -0.142851  0.079200\n",
       "Sınıf     -0.012277  1.000000   0.129582 -0.114395  0.174445\n",
       "Matematik  0.063772  0.129582   1.000000 -0.095583  0.100392\n",
       "Fizik     -0.142851 -0.114395  -0.095583  1.000000 -0.051820\n",
       "Kimya      0.079200  0.174445   0.100392 -0.051820  1.000000"
      ]
     },
     "execution_count": 81,
     "metadata": {},
     "output_type": "execute_result"
    }
   ],
   "source": [
    "data.corr()"
   ]
  },
  {
   "cell_type": "code",
   "execution_count": 82,
   "id": "12d99404-73ab-418e-a3a6-4edfe0974e65",
   "metadata": {},
   "outputs": [
    {
     "data": {
      "text/plain": [
       "Yaş           1.240808\n",
       "Sınıf         0.708990\n",
       "Matematik    35.159091\n",
       "Fizik        36.030707\n",
       "Kimya        30.835859\n",
       "dtype: float64"
      ]
     },
     "execution_count": 82,
     "metadata": {},
     "output_type": "execute_result"
    }
   ],
   "source": [
    "data.var(numeric_only=True)"
   ]
  },
  {
   "cell_type": "code",
   "execution_count": 83,
   "id": "95ef9350-3dba-466e-b7bb-d942eb31acbf",
   "metadata": {},
   "outputs": [
    {
     "data": {
      "image/png": "[encoded data removed]",
      "text/plain": [
       "<Figure size 432x288 with 1 Axes>"
      ]
     },
     "metadata": {
      "needs_background": "light"
     },
     "output_type": "display_data"
    }
   ],
   "source": [
    "sns.boxplot(data=data);"
   ]
  },
  {
   "cell_type": "code",
   "execution_count": 84,
   "id": "8c075b68-d697-4536-96b2-13124050fb87",
   "metadata": {},
   "outputs": [
    {
     "data": {
      "image/png": "[encoded data removed]",
      "text/plain": [
       "<Figure size 576x432 with 1 Axes>"
      ]
     },
     "metadata": {
      "needs_background": "light"
     },
     "output_type": "display_data"
    }
   ],
   "source": [
    "# Öğrencilerin matematik notlarının dağılımı\n",
    "plt.figure(figsize=(8, 6))\n",
    "sns.histplot(data['Matematik'], kde=True)\n",
    "plt.title('Öğrencilerin Matematik Notlarının Dağılımı')\n",
    "plt.xlabel('Matematik Notu')\n",
    "plt.ylabel('Frekans')\n",
    "plt.show()"
   ]
  },
  {
   "cell_type": "code",
   "execution_count": 85,
   "id": "adb4f396-d4d6-44b4-9f6d-68fceae58074",
   "metadata": {},
   "outputs": [
    {
     "data": {
      "image/png": "[encoded data removed]",
      "text/plain": [
       "<Figure size 720x432 with 1 Axes>"
      ]
     },
     "metadata": {
      "needs_background": "light"
     },
     "output_type": "display_data"
    },
    {
     "data": {
      "image/png": "[encoded data removed]",
      "text/plain": [
       "<Figure size 720x432 with 1 Axes>"
      ]
     },
     "metadata": {
      "needs_background": "light"
     },
     "output_type": "display_data"
    },
    {
     "data": {
      "image/png": "[encoded data removed]",
      "text/plain": [
       "<Figure size 720x432 with 1 Axes>"
      ]
     },
     "metadata": {
      "needs_background": "light"
     },
     "output_type": "display_data"
    }
   ],
   "source": [
    "# Sınıflara göre ortalama notlar\n",
    "data.groupby('Sınıf')[['Matematik', 'Fizik', 'Kimya']].plot(kind='bar', figsize=(10, 6))\n",
    "plt.legend(loc='upper right')\n",
    "plt.title('Sınıflara Göre Not Ortalamaları')\n",
    "plt.xlabel('Sınıf')\n",
    "plt.ylabel('Ortalama Not')\n",
    "plt.show()"
   ]
  },
  {
   "cell_type": "markdown",
   "id": "b310df8c-dab9-4a45-9b45-4adcb85d020e",
   "metadata": {},
   "source": [
    "# Model "
   ]
  },
  {
   "cell_type": "code",
   "execution_count": 86,
   "id": "44e1caef-8b68-4cb1-8228-09959530b3d6",
   "metadata": {},
   "outputs": [],
   "source": [
    "# Bağımlı ve bağımsız değişkenleri oluşturalım.\n",
    "X = data.drop('Matematik', axis=1)\n",
    "y = data['Matematik']"
   ]
  },
  {
   "cell_type": "code",
   "execution_count": 87,
   "id": "4bcb82f9-2e87-41d3-821a-bfcbc42d8ba3",
   "metadata": {},
   "outputs": [],
   "source": [
    "# Eğitim ve test setlerini ayıralım.\n",
    "X_train, X_test, y_train, y_test = train_test_split(X, y, test_size=0.2, random_state=42)"
   ]
  },
  {
   "cell_type": "code",
   "execution_count": 88,
   "id": "fdd626a3-6bd0-4af4-815a-109a87ca443d",
   "metadata": {},
   "outputs": [
    {
     "data": {
      "text/plain": [
       "<catboost.core.CatBoostRegressor at 0x1ba8e743e20>"
      ]
     },
     "execution_count": 88,
     "metadata": {},
     "output_type": "execute_result"
    }
   ],
   "source": [
    "# Modeli kuralım ve eğitelim.\n",
    "categorical_features = ['Cinsiyet', 'Öğrenci']\n",
    "model = CatBoostRegressor(iterations=100, learning_rate=0.1, depth=5, cat_features=categorical_features)\n",
    "model.fit(X_train, y_train, verbose=False)"
   ]
  },
  {
   "cell_type": "code",
   "execution_count": 89,
   "id": "1186e922-9d28-4c01-b49a-10635f9f9886",
   "metadata": {},
   "outputs": [],
   "source": [
    "# Tahmin\n",
    "predict = model.predict(X_test)"
   ]
  },
  {
   "cell_type": "code",
   "execution_count": 90,
   "id": "6f63d567-5922-4e20-8570-962cb63eaf12",
   "metadata": {},
   "outputs": [
    {
     "name": "stdout",
     "output_type": "stream",
     "text": [
      "R^2:  0.1661534273308859\n",
      "MSE:  27.35016758354694\n",
      "RMSE:  5.229738768193584\n"
     ]
    }
   ],
   "source": [
    "# Modeli Değerlendirelim.\n",
    "r2 = r2_score(y_test, predict)\n",
    "mse = mean_squared_error(y_test, predict)\n",
    "rmse = np.sqrt(mse)\n",
    "\n",
    "print('R^2: ', r2)\n",
    "print('MSE: ', mse)\n",
    "print('RMSE: ', rmse)"
   ]
  },
  {
   "cell_type": "code",
   "execution_count": 91,
   "id": "267929d0-4d02-4f72-b418-8c0b629e40f1",
   "metadata": {},
   "outputs": [
    {
     "data": {
      "text/html": [
       "<div>\n",
       "<style scoped>\n",
       "    .dataframe tbody tr th:only-of-type {\n",
       "        vertical-align: middle;\n",
       "    }\n",
       "\n",
       "    .dataframe tbody tr th {\n",
       "        vertical-align: top;\n",
       "    }\n",
       "\n",
       "    .dataframe thead th {\n",
       "        text-align: right;\n",
       "    }\n",
       "</style>\n",
       "<table border=\"1\" class=\"dataframe\">\n",
       "  <thead>\n",
       "    <tr style=\"text-align: right;\">\n",
       "      <th></th>\n",
       "      <th>Gerçek Değerler</th>\n",
       "      <th>Tahmini Değerler</th>\n",
       "    </tr>\n",
       "  </thead>\n",
       "  <tbody>\n",
       "    <tr>\n",
       "      <th>83</th>\n",
       "      <td>88</td>\n",
       "      <td>83.722810</td>\n",
       "    </tr>\n",
       "    <tr>\n",
       "      <th>53</th>\n",
       "      <td>89</td>\n",
       "      <td>81.778443</td>\n",
       "    </tr>\n",
       "    <tr>\n",
       "      <th>70</th>\n",
       "      <td>76</td>\n",
       "      <td>83.885828</td>\n",
       "    </tr>\n",
       "    <tr>\n",
       "      <th>45</th>\n",
       "      <td>86</td>\n",
       "      <td>85.685439</td>\n",
       "    </tr>\n",
       "    <tr>\n",
       "      <th>44</th>\n",
       "      <td>82</td>\n",
       "      <td>84.009419</td>\n",
       "    </tr>\n",
       "  </tbody>\n",
       "</table>\n",
       "</div>"
      ],
      "text/plain": [
       "    Gerçek Değerler  Tahmini Değerler\n",
       "83               88         83.722810\n",
       "53               89         81.778443\n",
       "70               76         83.885828\n",
       "45               86         85.685439\n",
       "44               82         84.009419"
      ]
     },
     "execution_count": 91,
     "metadata": {},
     "output_type": "execute_result"
    }
   ],
   "source": [
    "result = pd.DataFrame({\n",
    "    'Gerçek Değerler': y_test,\n",
    "    'Tahmini Değerler': predict\n",
    "})\n",
    "result.head()"
   ]
  }
 ],
 "metadata": {
  "kernelspec": {
   "display_name": "Python 3 (ipykernel)",
   "language": "python",
   "name": "python3"
  },
  "language_info": {
   "codemirror_mode": {
    "name": "ipython",
    "version": 3
   },
   "file_extension": ".py",
   "mimetype": "text/x-python",
   "name": "python",
   "nbconvert_exporter": "python",
   "pygments_lexer": "ipython3",
   "version": "3.9.12"
  }
 },
 "nbformat": 4,
 "nbformat_minor": 5
}
